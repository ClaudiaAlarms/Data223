{
 "cells": [
  {
   "attachments": {},
   "cell_type": "markdown",
   "metadata": {},
   "source": [
    "GET Request"
   ]
  },
  {
   "cell_type": "code",
   "execution_count": 8,
   "metadata": {},
   "outputs": [],
   "source": [
    "#Making API requests in Python\n",
    "import requests \n",
    "import json\n",
    "\n",
    "#API request\n",
    "response = requests.get('http://api.postcodes.io/postcodes/%20SE11%204AN')\n"
   ]
  },
  {
   "cell_type": "code",
   "execution_count": 9,
   "metadata": {},
   "outputs": [
    {
     "data": {
      "text/plain": [
       "requests.models.Response"
      ]
     },
     "execution_count": 9,
     "metadata": {},
     "output_type": "execute_result"
    }
   ],
   "source": [
    "response.status_code\n",
    "type(response)"
   ]
  },
  {
   "cell_type": "code",
   "execution_count": 14,
   "metadata": {},
   "outputs": [
    {
     "data": {
      "text/plain": [
       "requests.models.Response"
      ]
     },
     "execution_count": 14,
     "metadata": {},
     "output_type": "execute_result"
    }
   ],
   "source": [
    "requests.models.Response"
   ]
  },
  {
   "cell_type": "code",
   "execution_count": 16,
   "metadata": {},
   "outputs": [],
   "source": [
    "response_dict = response.json()"
   ]
  },
  {
   "cell_type": "code",
   "execution_count": 17,
   "metadata": {},
   "outputs": [
    {
     "data": {
      "text/plain": [
       "{'status': 200,\n",
       " 'result': {'postcode': 'SE11 4AN',\n",
       "  'quality': 1,\n",
       "  'eastings': 531275,\n",
       "  'northings': 178178,\n",
       "  'country': 'England',\n",
       "  'nhs_ha': 'London',\n",
       "  'longitude': -0.110646,\n",
       "  'latitude': 51.487324,\n",
       "  'european_electoral_region': 'London',\n",
       "  'primary_care_trust': 'Lambeth',\n",
       "  'region': 'London',\n",
       "  'lsoa': 'Lambeth 003D',\n",
       "  'msoa': 'Lambeth 003',\n",
       "  'incode': '4AN',\n",
       "  'outcode': 'SE11',\n",
       "  'parliamentary_constituency': 'Vauxhall',\n",
       "  'admin_district': 'Lambeth',\n",
       "  'parish': 'Lambeth, unparished area',\n",
       "  'admin_county': None,\n",
       "  'date_of_introduction': '198001',\n",
       "  'admin_ward': 'Kennington',\n",
       "  'ced': None,\n",
       "  'ccg': 'NHS South East London',\n",
       "  'nuts': 'Lambeth',\n",
       "  'pfa': 'Metropolitan Police',\n",
       "  'codes': {'admin_district': 'E09000022',\n",
       "   'admin_county': 'E99999999',\n",
       "   'admin_ward': 'E05014105',\n",
       "   'parish': 'E43000212',\n",
       "   'parliamentary_constituency': 'E14001008',\n",
       "   'ccg': 'E38000244',\n",
       "   'ccg_id': '72Q',\n",
       "   'ced': 'E99999999',\n",
       "   'nuts': 'TLI45',\n",
       "   'lsoa': 'E01003107',\n",
       "   'msoa': 'E02000620',\n",
       "   'lau2': 'E09000022',\n",
       "   'pfa': 'E23000001'}}}"
      ]
     },
     "execution_count": 17,
     "metadata": {},
     "output_type": "execute_result"
    }
   ],
   "source": [
    "response_dict"
   ]
  },
  {
   "cell_type": "code",
   "execution_count": 18,
   "metadata": {},
   "outputs": [
    {
     "data": {
      "text/plain": [
       "{'postcode': 'SE11 4AN',\n",
       " 'quality': 1,\n",
       " 'eastings': 531275,\n",
       " 'northings': 178178,\n",
       " 'country': 'England',\n",
       " 'nhs_ha': 'London',\n",
       " 'longitude': -0.110646,\n",
       " 'latitude': 51.487324,\n",
       " 'european_electoral_region': 'London',\n",
       " 'primary_care_trust': 'Lambeth',\n",
       " 'region': 'London',\n",
       " 'lsoa': 'Lambeth 003D',\n",
       " 'msoa': 'Lambeth 003',\n",
       " 'incode': '4AN',\n",
       " 'outcode': 'SE11',\n",
       " 'parliamentary_constituency': 'Vauxhall',\n",
       " 'admin_district': 'Lambeth',\n",
       " 'parish': 'Lambeth, unparished area',\n",
       " 'admin_county': None,\n",
       " 'date_of_introduction': '198001',\n",
       " 'admin_ward': 'Kennington',\n",
       " 'ced': None,\n",
       " 'ccg': 'NHS South East London',\n",
       " 'nuts': 'Lambeth',\n",
       " 'pfa': 'Metropolitan Police',\n",
       " 'codes': {'admin_district': 'E09000022',\n",
       "  'admin_county': 'E99999999',\n",
       "  'admin_ward': 'E05014105',\n",
       "  'parish': 'E43000212',\n",
       "  'parliamentary_constituency': 'E14001008',\n",
       "  'ccg': 'E38000244',\n",
       "  'ccg_id': '72Q',\n",
       "  'ced': 'E99999999',\n",
       "  'nuts': 'TLI45',\n",
       "  'lsoa': 'E01003107',\n",
       "  'msoa': 'E02000620',\n",
       "  'lau2': 'E09000022',\n",
       "  'pfa': 'E23000001'}}"
      ]
     },
     "execution_count": 18,
     "metadata": {},
     "output_type": "execute_result"
    }
   ],
   "source": [
    "response_dict[\"result\"]"
   ]
  },
  {
   "attachments": {},
   "cell_type": "markdown",
   "metadata": {},
   "source": [
    "# post requests\n"
   ]
  },
  {
   "cell_type": "code",
   "execution_count": 25,
   "metadata": {},
   "outputs": [
    {
     "ename": "TypeError",
     "evalue": "Session.request() got an unexpected keyword argument 'header'",
     "output_type": "error",
     "traceback": [
      "\u001b[1;31m---------------------------------------------------------------------------\u001b[0m",
      "\u001b[1;31mTypeError\u001b[0m                                 Traceback (most recent call last)",
      "Cell \u001b[1;32mIn[25], line 4\u001b[0m\n\u001b[0;32m      2\u001b[0m json_body \u001b[39m=\u001b[39m json\u001b[39m.\u001b[39mdumps(post_request) \u001b[39m# dumps = converts python to json\u001b[39;00m\n\u001b[0;32m      3\u001b[0m headers \u001b[39m=\u001b[39m {}\n\u001b[1;32m----> 4\u001b[0m post_multi_response \u001b[39m=\u001b[39m requests\u001b[39m.\u001b[39;49mpost(\u001b[39m\"\u001b[39;49m\u001b[39mhttps://api.postcode.io/postcodes\u001b[39;49m\u001b[39m\"\u001b[39;49m, header \u001b[39m=\u001b[39;49m headers, data\u001b[39m=\u001b[39;49mjson_body) \u001b[39m# post request to postcodes.io API with json body\u001b[39;00m\n\u001b[0;32m      5\u001b[0m post_multi_response\u001b[39m.\u001b[39mstatus_code \u001b[39m# status code 200 means request was sucessful\u001b[39;00m\n\u001b[0;32m      6\u001b[0m post_multi_response\u001b[39m.\u001b[39mjson() \u001b[39m# json response\u001b[39;00m\n",
      "File \u001b[1;32mc:\\Users\\claud\\OneDrive\\Desktop\\Data 223\\.venv\\lib\\site-packages\\requests\\api.py:115\u001b[0m, in \u001b[0;36mpost\u001b[1;34m(url, data, json, **kwargs)\u001b[0m\n\u001b[0;32m    103\u001b[0m \u001b[39mdef\u001b[39;00m \u001b[39mpost\u001b[39m(url, data\u001b[39m=\u001b[39m\u001b[39mNone\u001b[39;00m, json\u001b[39m=\u001b[39m\u001b[39mNone\u001b[39;00m, \u001b[39m*\u001b[39m\u001b[39m*\u001b[39mkwargs):\n\u001b[0;32m    104\u001b[0m \u001b[39m    \u001b[39m\u001b[39mr\u001b[39m\u001b[39m\"\"\"Sends a POST request.\u001b[39;00m\n\u001b[0;32m    105\u001b[0m \n\u001b[0;32m    106\u001b[0m \u001b[39m    :param url: URL for the new :class:`Request` object.\u001b[39;00m\n\u001b[1;32m   (...)\u001b[0m\n\u001b[0;32m    112\u001b[0m \u001b[39m    :rtype: requests.Response\u001b[39;00m\n\u001b[0;32m    113\u001b[0m \u001b[39m    \"\"\"\u001b[39;00m\n\u001b[1;32m--> 115\u001b[0m     \u001b[39mreturn\u001b[39;00m request(\u001b[39m\"\u001b[39m\u001b[39mpost\u001b[39m\u001b[39m\"\u001b[39m, url, data\u001b[39m=\u001b[39mdata, json\u001b[39m=\u001b[39mjson, \u001b[39m*\u001b[39m\u001b[39m*\u001b[39mkwargs)\n",
      "File \u001b[1;32mc:\\Users\\claud\\OneDrive\\Desktop\\Data 223\\.venv\\lib\\site-packages\\requests\\api.py:59\u001b[0m, in \u001b[0;36mrequest\u001b[1;34m(method, url, **kwargs)\u001b[0m\n\u001b[0;32m     55\u001b[0m \u001b[39m# By using the 'with' statement we are sure the session is closed, thus we\u001b[39;00m\n\u001b[0;32m     56\u001b[0m \u001b[39m# avoid leaving sockets open which can trigger a ResourceWarning in some\u001b[39;00m\n\u001b[0;32m     57\u001b[0m \u001b[39m# cases, and look like a memory leak in others.\u001b[39;00m\n\u001b[0;32m     58\u001b[0m \u001b[39mwith\u001b[39;00m sessions\u001b[39m.\u001b[39mSession() \u001b[39mas\u001b[39;00m session:\n\u001b[1;32m---> 59\u001b[0m     \u001b[39mreturn\u001b[39;00m session\u001b[39m.\u001b[39mrequest(method\u001b[39m=\u001b[39mmethod, url\u001b[39m=\u001b[39murl, \u001b[39m*\u001b[39m\u001b[39m*\u001b[39mkwargs)\n",
      "\u001b[1;31mTypeError\u001b[0m: Session.request() got an unexpected keyword argument 'header'"
     ]
    }
   ],
   "source": [
    "post_request = { \"postcodes\" : [\"OX49 5NU\", \"M32 0JG\", \"NE30 1DP\"]}\n",
    "json_body = json.dumps(post_request) # dumps = converts python to json\n",
    "headers = {'Confident-Type '}\n",
    "post_multi_response = requests.post(\"https://api.postcode.io/postcodes\", header = headers, data=json_body) # post request to postcodes.io API with json body\n",
    "post_multi_response.status_code # status code 200 means request was sucessful\n",
    "post_multi_response.json() # json response"
   ]
  },
  {
   "cell_type": "code",
   "execution_count": 23,
   "metadata": {},
   "outputs": [
    {
     "data": {
      "text/plain": [
       "str"
      ]
     },
     "execution_count": 23,
     "metadata": {},
     "output_type": "execute_result"
    }
   ],
   "source": [
    "type(json_body)"
   ]
  }
 ],
 "metadata": {
  "kernelspec": {
   "display_name": ".venv",
   "language": "python",
   "name": "python3"
  },
  "language_info": {
   "codemirror_mode": {
    "name": "ipython",
    "version": 3
   },
   "file_extension": ".py",
   "mimetype": "text/x-python",
   "name": "python",
   "nbconvert_exporter": "python",
   "pygments_lexer": "ipython3",
   "version": "3.10.0"
  },
  "orig_nbformat": 4
 },
 "nbformat": 4,
 "nbformat_minor": 2
}
