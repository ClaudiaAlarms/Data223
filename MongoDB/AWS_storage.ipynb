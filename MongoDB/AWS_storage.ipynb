{
 "cells": [
  {
   "cell_type": "code",
   "execution_count": 7,
   "metadata": {},
   "outputs": [
    {
     "name": "stdout",
     "output_type": "stream",
     "text": [
      "Requirement already satisfied: boto3 in c:\\users\\claud\\appdata\\local\\programs\\python\\python39\\lib\\site-packages (1.26.141)\n",
      "Requirement already satisfied: s3transfer<0.7.0,>=0.6.0 in c:\\users\\claud\\appdata\\local\\programs\\python\\python39\\lib\\site-packages (from boto3) (0.6.1)\n",
      "Requirement already satisfied: botocore<1.30.0,>=1.29.141 in c:\\users\\claud\\appdata\\local\\programs\\python\\python39\\lib\\site-packages (from boto3) (1.29.141)\n",
      "Requirement already satisfied: jmespath<2.0.0,>=0.7.1 in c:\\users\\claud\\appdata\\local\\programs\\python\\python39\\lib\\site-packages (from boto3) (1.0.1)\n",
      "Requirement already satisfied: python-dateutil<3.0.0,>=2.1 in c:\\users\\claud\\appdata\\roaming\\python\\python39\\site-packages (from botocore<1.30.0,>=1.29.141->boto3) (2.8.2)\n",
      "Requirement already satisfied: urllib3<1.27,>=1.25.4 in c:\\users\\claud\\appdata\\local\\programs\\python\\python39\\lib\\site-packages (from botocore<1.30.0,>=1.29.141->boto3) (1.26.16)\n",
      "Requirement already satisfied: six>=1.5 in c:\\users\\claud\\appdata\\roaming\\python\\python39\\site-packages (from python-dateutil<3.0.0,>=2.1->botocore<1.30.0,>=1.29.141->boto3) (1.16.0)\n",
      "Note: you may need to restart the kernel to use updated packages.\n"
     ]
    },
    {
     "name": "stderr",
     "output_type": "stream",
     "text": [
      "WARNING: You are using pip version 22.0.4; however, version 23.1.2 is available.\n",
      "You should consider upgrading via the 'c:\\Users\\claud\\AppData\\Local\\Programs\\Python\\Python39\\python.exe -m pip install --upgrade pip' command.\n"
     ]
    }
   ],
   "source": [
    "pip install boto3"
   ]
  },
  {
   "cell_type": "code",
   "execution_count": 2,
   "metadata": {},
   "outputs": [],
   "source": [
    "import boto3\n",
    "import pprint"
   ]
  },
  {
   "cell_type": "code",
   "execution_count": 4,
   "metadata": {},
   "outputs": [],
   "source": [
    "# First way to access AWS S3 bucket from python in loww level client\n",
    "# Second way is high level resource\n",
    "\n",
    "# Create an s3 client\n",
    "s3_client = boto3.client(\"s3\") #low level functional API #client is used to access the bucket\n",
    "s3_resource = boto3.resource(\"s3\") #high level object oriented API resource is used to access the bucket\n"
   ]
  },
  {
   "attachments": {},
   "cell_type": "markdown",
   "metadata": {},
   "source": [
    "\n"
   ]
  },
  {
   "cell_type": "code",
   "execution_count": null,
   "metadata": {},
   "outputs": [],
   "source": [
    "s3 = boto3.client(\"s3\")\n",
    "response = "
   ]
  },
  {
   "cell_type": "code",
   "execution_count": null,
   "metadata": {},
   "outputs": [],
   "source": [
    "bucket_name = \"data-eng-resources\"\n"
   ]
  },
  {
   "cell_type": "code",
   "execution_count": 22,
   "metadata": {},
   "outputs": [
    {
     "name": "stdout",
     "output_type": "stream",
     "text": [
      "{'ResponseMetadata': {'RequestId': 'QR2YV5SN9FDZ9N5A', 'HostId': 'WkQ/6wB49rmHFImdNi28nzevKJsprufBUkn7B0gum05du6H9RFJBs7mIqYk1kfilr5tmx+Feg7U=', 'HTTPStatusCode': 200, 'HTTPHeaders': {'x-amz-id-2': 'WkQ/6wB49rmHFImdNi28nzevKJsprufBUkn7B0gum05du6H9RFJBs7mIqYk1kfilr5tmx+Feg7U=', 'x-amz-request-id': 'QR2YV5SN9FDZ9N5A', 'date': 'Sun, 28 May 2023 09:32:23 GMT', 'content-type': 'application/xml', 'transfer-encoding': 'chunked', 'server': 'AmazonS3'}, 'RetryAttempts': 0}, 'Buckets': [{'Name': 'assessmentbackup', 'CreationDate': datetime.datetime(2020, 5, 27, 15, 37, 16, tzinfo=tzutc())}, {'Name': 'aws-logs-135928476890-eu-central-1', 'CreationDate': datetime.datetime(2022, 7, 14, 14, 39, 38, tzinfo=tzutc())}, {'Name': 'belal-tech201-python2', 'CreationDate': datetime.datetime(2023, 2, 20, 16, 50, 37, tzinfo=tzutc())}, {'Name': 'belal-tech201-python3', 'CreationDate': datetime.datetime(2023, 2, 20, 17, 56, 51, tzinfo=tzutc())}, {'Name': 'cyber10x-group1-bucket', 'CreationDate': datetime.datetime(2022, 1, 26, 12, 22, 52, tzinfo=tzutc())}, {'Name': 'data-eng-204-final-project', 'CreationDate': datetime.datetime(2023, 2, 27, 9, 4, 22, tzinfo=tzutc())}, {'Name': 'data-eng-210-final-project', 'CreationDate': datetime.datetime(2023, 4, 4, 12, 40, 31, tzinfo=tzutc())}, {'Name': 'data-eng-30-final-project-files', 'CreationDate': datetime.datetime(2022, 7, 25, 14, 48, 8, tzinfo=tzutc())}, {'Name': 'data-eng-31-final-project', 'CreationDate': datetime.datetime(2022, 8, 12, 11, 39, 17, tzinfo=tzutc())}, {'Name': 'data-eng-37-final-project', 'CreationDate': datetime.datetime(2022, 6, 22, 16, 11, 37, tzinfo=tzutc())}, {'Name': 'data-eng-project-master', 'CreationDate': datetime.datetime(2020, 8, 21, 10, 0, 40, tzinfo=tzutc())}, {'Name': 'data-eng-resources', 'CreationDate': datetime.datetime(2021, 5, 29, 9, 20, 43, tzinfo=tzutc())}, {'Name': 'data32-final-project-files', 'CreationDate': datetime.datetime(2022, 9, 30, 10, 19, 32, tzinfo=tzutc())}, {'Name': 'devops-bootcamp-shahrukh', 'CreationDate': datetime.datetime(2021, 6, 15, 15, 46, 21, tzinfo=tzutc())}, {'Name': 'devops-content', 'CreationDate': datetime.datetime(2022, 3, 25, 11, 13, 10, tzinfo=tzutc())}, {'Name': 'elasticbeanstalk-eu-west-1-135928476890', 'CreationDate': datetime.datetime(2020, 6, 24, 4, 6, 16, tzinfo=tzutc())}, {'Name': 'eng130-videos', 'CreationDate': datetime.datetime(2022, 12, 2, 16, 17, 53, tzinfo=tzutc())}, {'Name': 'graduate-market-analysis', 'CreationDate': datetime.datetime(2023, 4, 20, 15, 44, 21, tzinfo=tzutc())}, {'Name': 'imc.spartaglobal.academy', 'CreationDate': datetime.datetime(2020, 6, 12, 0, 50, tzinfo=tzutc())}, {'Name': 'iotdatajoy2023', 'CreationDate': datetime.datetime(2023, 5, 16, 13, 38, 35, tzinfo=tzutc())}, {'Name': 'jenkins-build-test', 'CreationDate': datetime.datetime(2020, 6, 12, 0, 56, 53, tzinfo=tzutc())}, {'Name': 'kaki-udemy', 'CreationDate': datetime.datetime(2022, 8, 18, 16, 18, 20, tzinfo=tzutc())}, {'Name': 'kaki-work-space', 'CreationDate': datetime.datetime(2022, 8, 18, 16, 12, 9, tzinfo=tzutc())}, {'Name': 'profiles.spartaglobal.academy', 'CreationDate': datetime.datetime(2020, 6, 12, 2, 0, 23, tzinfo=tzutc())}, {'Name': 'profilesapp2020', 'CreationDate': datetime.datetime(2020, 9, 7, 9, 56, 2, tzinfo=tzutc())}, {'Name': 'ramon-tech201-pyfiles', 'CreationDate': datetime.datetime(2023, 2, 20, 17, 44, 39, tzinfo=tzutc())}, {'Name': 'sparta-backups', 'CreationDate': datetime.datetime(2020, 6, 25, 0, 51, 40, tzinfo=tzutc())}, {'Name': 'sparta-cyber-bucket', 'CreationDate': datetime.datetime(2021, 5, 6, 8, 6, 33, tzinfo=tzutc())}, {'Name': 'sparta-data', 'CreationDate': datetime.datetime(2021, 4, 1, 11, 3, 27, tzinfo=tzutc())}, {'Name': 'sparta-example-state', 'CreationDate': datetime.datetime(2020, 6, 25, 0, 51, 41, tzinfo=tzutc())}, {'Name': 'sparta-marketing', 'CreationDate': datetime.datetime(2020, 12, 1, 11, 27, 57, tzinfo=tzutc())}, {'Name': 'sparta-media', 'CreationDate': datetime.datetime(2021, 3, 23, 23, 8, 11, tzinfo=tzutc())}, {'Name': 'sparta-profiles', 'CreationDate': datetime.datetime(2022, 6, 22, 16, 33, 1, tzinfo=tzutc())}, {'Name': 'sparta-terraform-state', 'CreationDate': datetime.datetime(2020, 6, 12, 2, 30, 18, tzinfo=tzutc())}, {'Name': 'tech230-james-bucket', 'CreationDate': datetime.datetime(2023, 5, 25, 15, 36, 11, tzinfo=tzutc())}, {'Name': 'tech230-ramon1', 'CreationDate': datetime.datetime(2023, 5, 19, 12, 27, 54, tzinfo=tzutc())}, {'Name': 'tech230-shaleka-boto', 'CreationDate': datetime.datetime(2023, 5, 26, 10, 29, 53, tzinfo=tzutc())}, {'Name': 'tech230-shaleka-bucket', 'CreationDate': datetime.datetime(2023, 5, 26, 10, 52, 13, tzinfo=tzutc())}, {'Name': 'tech230-yj-bucket', 'CreationDate': datetime.datetime(2023, 5, 26, 12, 54, 15, tzinfo=tzutc())}], 'Owner': {'ID': '21beecfeb5241d34bf1e52dca44fa8534c6be64dc3aa074ff430d8c6dd890040'}}\n",
      "Existing buckets:\n",
      "  assessmentbackup\n",
      "  aws-logs-135928476890-eu-central-1\n",
      "  belal-tech201-python2\n",
      "  belal-tech201-python3\n",
      "  cyber10x-group1-bucket\n",
      "  data-eng-204-final-project\n",
      "  data-eng-210-final-project\n",
      "  data-eng-30-final-project-files\n",
      "  data-eng-31-final-project\n",
      "  data-eng-37-final-project\n",
      "  data-eng-project-master\n",
      "  data-eng-resources\n",
      "  data32-final-project-files\n",
      "  devops-bootcamp-shahrukh\n",
      "  devops-content\n",
      "  elasticbeanstalk-eu-west-1-135928476890\n",
      "  eng130-videos\n",
      "  graduate-market-analysis\n",
      "  imc.spartaglobal.academy\n",
      "  iotdatajoy2023\n",
      "  jenkins-build-test\n",
      "  kaki-udemy\n",
      "  kaki-work-space\n",
      "  profiles.spartaglobal.academy\n",
      "  profilesapp2020\n",
      "  ramon-tech201-pyfiles\n",
      "  sparta-backups\n",
      "  sparta-cyber-bucket\n",
      "  sparta-data\n",
      "  sparta-example-state\n",
      "  sparta-marketing\n",
      "  sparta-media\n",
      "  sparta-profiles\n",
      "  sparta-terraform-state\n",
      "  tech230-james-bucket\n",
      "  tech230-ramon1\n",
      "  tech230-shaleka-boto\n",
      "  tech230-shaleka-bucket\n",
      "  tech230-yj-bucket\n"
     ]
    }
   ],
   "source": [
    "# Retrieve the list of existing buckets\n",
    "s3 = boto3.client('s3')\n",
    "response = s3.list_buckets()\n",
    "pprint = print(response)\n",
    "\n",
    "# Output the bucket names\n",
    "print('Existing buckets:')\n",
    "for bucket in response['Buckets']:\n",
    "    print(f'  {bucket[\"Name\"]}')"
   ]
  },
  {
   "cell_type": "code",
   "execution_count": 21,
   "metadata": {},
   "outputs": [
    {
     "data": {
      "text/plain": [
       "('[default]', 'region = eu-central-1')"
      ]
     },
     "execution_count": 21,
     "metadata": {},
     "output_type": "execute_result"
    }
   ],
   "source": [
    "def read_credentials_from_file(file_path):\n",
    "    with open(file_path, 'r') as file:\n",
    "        lines = file.readlines()\n",
    "        access_key_id = lines[0].strip()\n",
    "        secret_access_key = lines[1].strip()\n",
    "        return access_key_id, secret_access_key\n",
    "    \n",
    "\n",
    "# credentials_file_path = \"C:\\\\Users\\\\claud\\\\OneDrive\\\\Desktop\\\\AWS_Storage\\\\.venv\\\\credentials.txt\"\n",
    "# access_key_id, secret_access_key = read_credentials_from_file(credentials_file_path)\n",
    "\n",
    "response = s3_client.list_objects(Bucket='data-eng-resources')\n",
    "\n",
    "session = boto3.Session()\n",
    "s3_client = session.client('s3')\n",
    "s3_client.upload_file('', 'data-eng-resources', 'credentials')\n",
    "\n",
    "# read_credentials_from_file(\"C:\\\\Users\\\\claud\\\\OneDrive\\\\Desktop\\\\AWS_Storage\\\\.venv\\\\credentials.txt\")\n",
    "# read_credentials_from_file(\"C:\\\\Users\\\\claud\\OneDrive\\\\Desktop\\\\AWS_Storage\\\\.venv\\\\config.txt\")"
   ]
  },
  {
   "cell_type": "code",
   "execution_count": null,
   "metadata": {},
   "outputs": [],
   "source": [
    "import boto3\n",
    "from boto3.s3.transfer import TransferConfig\n",
    "\n",
    "# Set the desired multipart threshold value (5GB)\n",
    "GB = 1024 ** 3\n",
    "config = TransferConfig(multipart_threshold=5*GB)\n",
    "\n",
    "# Perform the transfer\n",
    "s3 = boto3.client('s3')\n",
    "s3.upload_file('FILE_NAME', 'BUCKET_NAME', 'OBJECT_NAME', Config=config)"
   ]
  },
  {
   "cell_type": "code",
   "execution_count": null,
   "metadata": {},
   "outputs": [],
   "source": [
    "session "
   ]
  },
  {
   "cell_type": "code",
   "execution_count": 16,
   "metadata": {},
   "outputs": [
    {
     "ename": "ClientError",
     "evalue": "An error occurred (AllAccessDisabled) when calling the GetBucketAcl operation: All access to this object has been disabled",
     "output_type": "error",
     "traceback": [
      "\u001b[1;31m---------------------------------------------------------------------------\u001b[0m",
      "\u001b[1;31mClientError\u001b[0m                               Traceback (most recent call last)",
      "Cell \u001b[1;32mIn[16], line 5\u001b[0m\n\u001b[0;32m      3\u001b[0m \u001b[39m# Retrieve a bucket's ACL\u001b[39;00m\n\u001b[0;32m      4\u001b[0m s3 \u001b[39m=\u001b[39m boto3\u001b[39m.\u001b[39mclient(\u001b[39m'\u001b[39m\u001b[39ms3\u001b[39m\u001b[39m'\u001b[39m)\n\u001b[1;32m----> 5\u001b[0m result \u001b[39m=\u001b[39m s3\u001b[39m.\u001b[39;49mget_bucket_acl(Bucket\u001b[39m=\u001b[39;49m\u001b[39m'\u001b[39;49m\u001b[39mmy-bucket\u001b[39;49m\u001b[39m'\u001b[39;49m)\n\u001b[0;32m      6\u001b[0m \u001b[39mprint\u001b[39m(result)\n",
      "File \u001b[1;32mc:\\Users\\claud\\AppData\\Local\\Programs\\Python\\Python39\\lib\\site-packages\\botocore\\client.py:530\u001b[0m, in \u001b[0;36mClientCreator._create_api_method.<locals>._api_call\u001b[1;34m(self, *args, **kwargs)\u001b[0m\n\u001b[0;32m    526\u001b[0m     \u001b[39mraise\u001b[39;00m \u001b[39mTypeError\u001b[39;00m(\n\u001b[0;32m    527\u001b[0m         \u001b[39mf\u001b[39m\u001b[39m\"\u001b[39m\u001b[39m{\u001b[39;00mpy_operation_name\u001b[39m}\u001b[39;00m\u001b[39m() only accepts keyword arguments.\u001b[39m\u001b[39m\"\u001b[39m\n\u001b[0;32m    528\u001b[0m     )\n\u001b[0;32m    529\u001b[0m \u001b[39m# The \"self\" in this scope is referring to the BaseClient.\u001b[39;00m\n\u001b[1;32m--> 530\u001b[0m \u001b[39mreturn\u001b[39;00m \u001b[39mself\u001b[39;49m\u001b[39m.\u001b[39;49m_make_api_call(operation_name, kwargs)\n",
      "File \u001b[1;32mc:\\Users\\claud\\AppData\\Local\\Programs\\Python\\Python39\\lib\\site-packages\\botocore\\client.py:964\u001b[0m, in \u001b[0;36mBaseClient._make_api_call\u001b[1;34m(self, operation_name, api_params)\u001b[0m\n\u001b[0;32m    962\u001b[0m     error_code \u001b[39m=\u001b[39m parsed_response\u001b[39m.\u001b[39mget(\u001b[39m\"\u001b[39m\u001b[39mError\u001b[39m\u001b[39m\"\u001b[39m, {})\u001b[39m.\u001b[39mget(\u001b[39m\"\u001b[39m\u001b[39mCode\u001b[39m\u001b[39m\"\u001b[39m)\n\u001b[0;32m    963\u001b[0m     error_class \u001b[39m=\u001b[39m \u001b[39mself\u001b[39m\u001b[39m.\u001b[39mexceptions\u001b[39m.\u001b[39mfrom_code(error_code)\n\u001b[1;32m--> 964\u001b[0m     \u001b[39mraise\u001b[39;00m error_class(parsed_response, operation_name)\n\u001b[0;32m    965\u001b[0m \u001b[39melse\u001b[39;00m:\n\u001b[0;32m    966\u001b[0m     \u001b[39mreturn\u001b[39;00m parsed_response\n",
      "\u001b[1;31mClientError\u001b[0m: An error occurred (AllAccessDisabled) when calling the GetBucketAcl operation: All access to this object has been disabled"
     ]
    }
   ],
   "source": [
    "import boto3\n",
    "\n",
    "# Retrieve a bucket's ACL\n",
    "s3 = boto3.client('s3')\n",
    "result = s3.get_bucket_acl(Bucket='my-bucket')\n",
    "print(result)"
   ]
  },
  {
   "cell_type": "code",
   "execution_count": 20,
   "metadata": {},
   "outputs": [
    {
     "data": {
      "text/plain": [
       "True"
      ]
     },
     "execution_count": 20,
     "metadata": {},
     "output_type": "execute_result"
    }
   ],
   "source": [
    "import logging\n",
    "import boto3\n",
    "from botocore.exceptions import ClientError\n",
    "import os\n",
    "\n",
    "\n",
    "def upload_file(file_name, bucket, object_name=None):\n",
    "    \"\"\"Upload a file to an S3 bucket\n",
    "\n",
    "    :param file_name: File to upload\n",
    "    :param bucket: Bucket to upload to\n",
    "    :param object_name: S3 object name. If not specified then file_name is used\n",
    "    :return: True if file was uploaded, else False\n",
    "    \"\"\"\n",
    "\n",
    "    # If S3 object_name was not specified, use file_name\n",
    "    if object_name is None:\n",
    "        object_name = os.path.basename(file_name)\n",
    "\n",
    "    # Upload the file\n",
    "    s3_client = boto3.client('s3')\n",
    "    try:\n",
    "        response = s3_client.upload_file(file_name, bucket, object_name)\n",
    "    except ClientError as e:\n",
    "        logging.error(e)\n",
    "        return False\n",
    "    return True\n",
    "\n",
    "\n",
    "upload_file(\"credentials.txt\", \"data-eng-resources\")\n",
    "upload_file(\"config.txt\", \"data-eng-resources\")"
   ]
  },
  {
   "cell_type": "code",
   "execution_count": 1,
   "metadata": {},
   "outputs": [
    {
     "name": "stdout",
     "output_type": "stream",
     "text": [
      "Collecting pandasNote: you may need to restart the kernel to use updated packages.\n",
      "\n",
      "  Downloading pandas-2.0.1-cp39-cp39-win_amd64.whl (10.7 MB)\n",
      "     --------------------------------------- 10.7/10.7 MB 12.1 MB/s eta 0:00:00\n",
      "Requirement already satisfied: python-dateutil>=2.8.2 in c:\\users\\claud\\appdata\\roaming\\python\\python39\\site-packages (from pandas) (2.8.2)\n",
      "Collecting tzdata>=2022.1\n",
      "  Using cached tzdata-2023.3-py2.py3-none-any.whl (341 kB)\n",
      "Collecting pytz>=2020.1\n",
      "  Using cached pytz-2023.3-py2.py3-none-any.whl (502 kB)\n",
      "Collecting numpy>=1.20.3\n",
      "  Downloading numpy-1.24.3-cp39-cp39-win_amd64.whl (14.9 MB)\n",
      "     --------------------------------------- 14.9/14.9 MB 12.8 MB/s eta 0:00:00\n",
      "Requirement already satisfied: six>=1.5 in c:\\users\\claud\\appdata\\roaming\\python\\python39\\site-packages (from python-dateutil>=2.8.2->pandas) (1.16.0)\n",
      "Installing collected packages: pytz, tzdata, numpy, pandas\n",
      "Successfully installed numpy-1.24.3 pandas-2.0.1 pytz-2023.3 tzdata-2023.3\n"
     ]
    },
    {
     "name": "stderr",
     "output_type": "stream",
     "text": [
      "WARNING: You are using pip version 22.0.4; however, version 23.1.2 is available.\n",
      "You should consider upgrading via the 'c:\\Users\\claud\\AppData\\Local\\Programs\\Python\\Python39\\python.exe -m pip install --upgrade pip' command.\n"
     ]
    }
   ],
   "source": [
    "pip install pandas"
   ]
  },
  {
   "cell_type": "code",
   "execution_count": 3,
   "metadata": {},
   "outputs": [
    {
     "name": "stdout",
     "output_type": "stream",
     "text": [
      "<class 'pandas.core.frame.DataFrame'>\n",
      "RangeIndex: 159 entries, 0 to 158\n",
      "Data columns (total 7 columns):\n",
      " #   Column   Non-Null Count  Dtype  \n",
      "---  ------   --------------  -----  \n",
      " 0   Species  159 non-null    object \n",
      " 1   Weight   159 non-null    float64\n",
      " 2   Length1  159 non-null    float64\n",
      " 3   Length2  159 non-null    float64\n",
      " 4   Length3  159 non-null    float64\n",
      " 5   Height   159 non-null    float64\n",
      " 6   Width    159 non-null    float64\n",
      "dtypes: float64(6), object(1)\n",
      "memory usage: 8.8+ KB\n"
     ]
    }
   ],
   "source": [
    "import pandas as pd\n",
    "import boto3\n",
    "\n",
    "s3 = boto3.client('s3')\n",
    "s3.download_file('data-eng-resources', 'fish-market.csv', 'fish-market-data.csv')\n",
    "data = pd.read_csv('fish-market-data.csv')\n",
    "data.info()"
   ]
  },
  {
   "cell_type": "code",
   "execution_count": 9,
   "metadata": {},
   "outputs": [
    {
     "data": {
      "text/html": [
       "<div>\n",
       "<style scoped>\n",
       "    .dataframe tbody tr th:only-of-type {\n",
       "        vertical-align: middle;\n",
       "    }\n",
       "\n",
       "    .dataframe tbody tr th {\n",
       "        vertical-align: top;\n",
       "    }\n",
       "\n",
       "    .dataframe thead tr th {\n",
       "        text-align: left;\n",
       "    }\n",
       "\n",
       "    .dataframe thead tr:last-of-type th {\n",
       "        text-align: right;\n",
       "    }\n",
       "</style>\n",
       "<table border=\"1\" class=\"dataframe\">\n",
       "  <thead>\n",
       "    <tr>\n",
       "      <th></th>\n",
       "      <th>Weight</th>\n",
       "      <th>Length1</th>\n",
       "      <th>Length2</th>\n",
       "      <th>Length3</th>\n",
       "      <th>Height</th>\n",
       "      <th>Width</th>\n",
       "    </tr>\n",
       "    <tr>\n",
       "      <th></th>\n",
       "      <th>mean</th>\n",
       "      <th>mean</th>\n",
       "      <th>mean</th>\n",
       "      <th>mean</th>\n",
       "      <th>mean</th>\n",
       "      <th>mean</th>\n",
       "    </tr>\n",
       "    <tr>\n",
       "      <th>Species</th>\n",
       "      <th></th>\n",
       "      <th></th>\n",
       "      <th></th>\n",
       "      <th></th>\n",
       "      <th></th>\n",
       "      <th></th>\n",
       "    </tr>\n",
       "  </thead>\n",
       "  <tbody>\n",
       "    <tr>\n",
       "      <th>Bream</th>\n",
       "      <td>617.828571</td>\n",
       "      <td>30.305714</td>\n",
       "      <td>33.108571</td>\n",
       "      <td>38.354286</td>\n",
       "      <td>15.183211</td>\n",
       "      <td>5.427614</td>\n",
       "    </tr>\n",
       "    <tr>\n",
       "      <th>Parkki</th>\n",
       "      <td>154.818182</td>\n",
       "      <td>18.727273</td>\n",
       "      <td>20.345455</td>\n",
       "      <td>22.790909</td>\n",
       "      <td>8.962427</td>\n",
       "      <td>3.220736</td>\n",
       "    </tr>\n",
       "    <tr>\n",
       "      <th>Perch</th>\n",
       "      <td>382.239286</td>\n",
       "      <td>25.735714</td>\n",
       "      <td>27.892857</td>\n",
       "      <td>29.571429</td>\n",
       "      <td>7.861870</td>\n",
       "      <td>4.745723</td>\n",
       "    </tr>\n",
       "    <tr>\n",
       "      <th>Pike</th>\n",
       "      <td>718.705882</td>\n",
       "      <td>42.476471</td>\n",
       "      <td>45.482353</td>\n",
       "      <td>48.717647</td>\n",
       "      <td>7.713771</td>\n",
       "      <td>5.086382</td>\n",
       "    </tr>\n",
       "    <tr>\n",
       "      <th>Roach</th>\n",
       "      <td>152.050000</td>\n",
       "      <td>20.645000</td>\n",
       "      <td>22.275000</td>\n",
       "      <td>24.970000</td>\n",
       "      <td>6.694795</td>\n",
       "      <td>3.657850</td>\n",
       "    </tr>\n",
       "    <tr>\n",
       "      <th>Smelt</th>\n",
       "      <td>11.178571</td>\n",
       "      <td>11.257143</td>\n",
       "      <td>11.921429</td>\n",
       "      <td>13.035714</td>\n",
       "      <td>2.209371</td>\n",
       "      <td>1.340093</td>\n",
       "    </tr>\n",
       "    <tr>\n",
       "      <th>Whitefish</th>\n",
       "      <td>531.000000</td>\n",
       "      <td>28.800000</td>\n",
       "      <td>31.316667</td>\n",
       "      <td>34.316667</td>\n",
       "      <td>10.027167</td>\n",
       "      <td>5.473050</td>\n",
       "    </tr>\n",
       "  </tbody>\n",
       "</table>\n",
       "</div>"
      ],
      "text/plain": [
       "               Weight    Length1    Length2    Length3     Height     Width\n",
       "                 mean       mean       mean       mean       mean      mean\n",
       "Species                                                                    \n",
       "Bream      617.828571  30.305714  33.108571  38.354286  15.183211  5.427614\n",
       "Parkki     154.818182  18.727273  20.345455  22.790909   8.962427  3.220736\n",
       "Perch      382.239286  25.735714  27.892857  29.571429   7.861870  4.745723\n",
       "Pike       718.705882  42.476471  45.482353  48.717647   7.713771  5.086382\n",
       "Roach      152.050000  20.645000  22.275000  24.970000   6.694795  3.657850\n",
       "Smelt       11.178571  11.257143  11.921429  13.035714   2.209371  1.340093\n",
       "Whitefish  531.000000  28.800000  31.316667  34.316667  10.027167  5.473050"
      ]
     },
     "execution_count": 9,
     "metadata": {},
     "output_type": "execute_result"
    }
   ],
   "source": [
    "mean_table = data.groupby(['Species']).agg(['mean'])\n",
    "mean_table"
   ]
  },
  {
   "cell_type": "code",
   "execution_count": null,
   "metadata": {},
   "outputs": [],
   "source": [
    "mean_table.to_csv('C:\\Users\\claud\\OneDrive\\Desktop\\AWS_Storage\\.venv\\Transformed_Fish_Data.csv')"
   ]
  }
 ],
 "metadata": {
  "kernelspec": {
   "display_name": ".venv",
   "language": "python",
   "name": "python3"
  },
  "language_info": {
   "codemirror_mode": {
    "name": "ipython",
    "version": 3
   },
   "file_extension": ".py",
   "mimetype": "text/x-python",
   "name": "python",
   "nbconvert_exporter": "python",
   "pygments_lexer": "ipython3",
   "version": "3.9.13"
  },
  "orig_nbformat": 4
 },
 "nbformat": 4,
 "nbformat_minor": 2
}
